{
 "cells": [
  {
   "cell_type": "markdown",
   "metadata": {},
   "source": [
    "# Problem_1.1-: Write a Python Program(with class concepts) to find the area of the triangle using the below formula.\n",
    "area = (s(s-a)(s-b)*(s-c)) ** 0.5\n",
    "Function to take the length of the sides of triangle from user should be defined in the parent class and function to calculate the area should be defined in subclass."
   ]
  },
  {
   "cell_type": "code",
   "execution_count": 1,
   "metadata": {},
   "outputs": [],
   "source": [
    "class Triangle:\n",
    "    def __init__(self):\n",
    "        ''' This method has been used as an self constructor for Traingle class'''\n",
    "        number_of_sides=['a','b','c']\n",
    "        self.TriangleSides=number_of_sides\n",
    "        \n",
    "    def sides_Of_Triangle(self):\n",
    "        ''' This method will return sides of Traingle'''\n",
    "        self.sides_Of_Traingle=[input(\"Enter the Side \"+i+\" :\") for i in self.TriangleSides]\n",
    "        \n",
    "#Sub class       \n",
    "class Traingle_Area(Triangle):\n",
    "    def __init__(self):\n",
    "        '''This method will inherit properties and attrivutes fro Parent class \"Traingle\" and it's class \"TraingleArea\"  '''\n",
    "        Triangle.__init__(self)\n",
    "        \n",
    "    def area_Of_Triangle(self):\n",
    "        '''This method will return an Area of Triangle'''\n",
    "        \n",
    "        # Iterator has been created to iterate sides of triangle from collection\n",
    "        triangleSides=iter(self.sides_Of_Traingle)\n",
    "        a=float(next(triangleSides))\n",
    "        b=float(next(triangleSides))\n",
    "        c=float(next(triangleSides))      \n",
    "           \n",
    "        # Half-perimeter (s) of Triangle         \n",
    "        s= (a+b+c)*0.5        \n",
    "        # Area of Triangle         \n",
    "        Area = (s*(s-a)*(s-b)*(s-c))**0.5    \n",
    "        print(\"The sides of triangle are a=\"+str(a)+\", b=\"+str(b)+\", c=\"+str(c))     \n",
    "        Area = ('The Area of the triangle is %0.2f' %Area )\n",
    "        #return Area\n",
    "        print(Area)"
   ]
  },
  {
   "cell_type": "code",
   "execution_count": 2,
   "metadata": {},
   "outputs": [],
   "source": [
    "Area_Of_Traingle = Traingle_Area()"
   ]
  },
  {
   "cell_type": "code",
   "execution_count": 3,
   "metadata": {},
   "outputs": [
    {
     "name": "stdout",
     "output_type": "stream",
     "text": [
      "Enter the Side a :5\n",
      "Enter the Side b :6\n",
      "Enter the Side c :3\n"
     ]
    }
   ],
   "source": [
    "Area_Of_Traingle.sides_Of_Triangle()"
   ]
  },
  {
   "cell_type": "code",
   "execution_count": 4,
   "metadata": {},
   "outputs": [
    {
     "name": "stdout",
     "output_type": "stream",
     "text": [
      "The sides of triangle are a=5.0, b=6.0, c=3.0\n",
      "The Area of the triangle is 7.48\n"
     ]
    }
   ],
   "source": [
    "Area_Of_Traingle.area_Of_Triangle()"
   ]
  },
  {
   "cell_type": "markdown",
   "metadata": {},
   "source": [
    "# Write a function filter_long_words() that takes a list of words and an integer n and returns the list of words that are longer than n"
   ]
  },
  {
   "cell_type": "code",
   "execution_count": 5,
   "metadata": {},
   "outputs": [
    {
     "name": "stdout",
     "output_type": "stream",
     "text": [
      "Input:\n",
      "Please enter your words: nadim,kas,Hasan,Jamil\n",
      "Please enter your number: 4\n",
      "\n",
      " Output:\n",
      "\n",
      " The List of longest words , which  are longer than 4 is :\n"
     ]
    },
    {
     "data": {
      "text/plain": [
       "['nadim', 'Hasan', 'Jamil']"
      ]
     },
     "execution_count": 5,
     "metadata": {},
     "output_type": "execute_result"
    }
   ],
   "source": [
    "def filter_long_words(WordList,n):\n",
    "    ''' This function returns list of words are longer than Argument n . \n",
    "    Note : n has been considerd has an integer'''\n",
    "    \n",
    "    #List Comprehensions\n",
    "    Wordlist=[x.strip() for x in WordList if len(x.strip())>n]\n",
    "    \n",
    "    if(len(Wordlist)>0):\n",
    "        print(\"\\n Output:\")\n",
    "        print(\"\\n The List of longest words , which  are longer than \"+str(n)+\" is :\")\n",
    "        return Wordlist\n",
    "    else:\n",
    "        return \"No Words longer than specified number \"+str(n)\n",
    "    \n",
    "#Ask user's Input\n",
    "print(\"Input:\")\n",
    "string= input(\"Please enter your words: \")\n",
    "number= int(input(\"Please enter your number: \"))\n",
    "\n",
    "# Split the words by \",\" comma and convert into list\n",
    "list_Of_Words = list(string.split(\",\"))\n",
    "#Function Execution\n",
    "filter_long_words(list_Of_Words,number)"
   ]
  },
  {
   "cell_type": "markdown",
   "metadata": {},
   "source": [
    "# Write a Python program using function concept that maps list of words into a list of integers\n",
    "representing the lengths of the corresponding words.\n",
    "Hint: If a list [ ab,cde,erty] is passed on to the python function output should come as [2,3,4]\n",
    "Here 2,3 and 4 are the lengths of the words in the list."
   ]
  },
  {
   "cell_type": "code",
   "execution_count": 6,
   "metadata": {},
   "outputs": [
    {
     "name": "stdout",
     "output_type": "stream",
     "text": [
      "Input : Please enter Words : nadim,jaman,kay\n",
      "Output: Length of Words are : [5, 5, 3]\n"
     ]
    }
   ],
   "source": [
    "def map_Words_to_Length(List):\n",
    "    ''' This function Map's the words with their corresponding length'''\n",
    "    return list(map(len, List))\n",
    "\n",
    "word_List=list(input(\"Input : Please enter Words : \").split(\",\"))\n",
    "#List Comprehension has been done to remove white trailing white spaces\n",
    "List=[x.strip() for x in word_List]\n",
    "#function Execution\n",
    "Words_lengths=map_Words_to_Length(List)\n",
    "\n",
    "print(\"Output: Length of Words are :\",Words_lengths )"
   ]
  },
  {
   "cell_type": "markdown",
   "metadata": {},
   "source": [
    "# Write a Python function which takes a character (i.e. a string of length 1) and returns True if\n",
    "it is a vowel, False otherwise."
   ]
  },
  {
   "cell_type": "code",
   "execution_count": 7,
   "metadata": {},
   "outputs": [
    {
     "name": "stdout",
     "output_type": "stream",
     "text": [
      "Enter character to check that it is Vowel or not\n",
      "Input Value: b\n",
      "Output Value: False\n"
     ]
    }
   ],
   "source": [
    "def vowel_checker(inputChar):\n",
    "    #docstring\n",
    "    '''This function will return True/False based upon input character provided by user'''\n",
    "    return_value=''\n",
    "    if(len(inputChar)==1):\n",
    "        vowel_list=['a','e','i','o','u']\n",
    "        if (inputChar.lower() in vowel_list):\n",
    "            return_value= True\n",
    "        else:\n",
    "            return_value= False\n",
    "    else:\n",
    "        return_value=\"Please enter single character only!\"        \n",
    "    return return_value\n",
    "\n",
    "#Ask user's Input\n",
    "print(\"Enter character to check that it is Vowel or not\")\n",
    "input_value = input(\"Input Value: \")\n",
    "#Function Execution\n",
    "output_value=vowel_checker(input_value) \n",
    "#Output\n",
    "print(\"Output Value:\",output_value)"
   ]
  },
  {
   "cell_type": "code",
   "execution_count": null,
   "metadata": {},
   "outputs": [],
   "source": []
  },
  {
   "cell_type": "code",
   "execution_count": null,
   "metadata": {},
   "outputs": [],
   "source": []
  }
 ],
 "metadata": {
  "kernelspec": {
   "display_name": "Python 3",
   "language": "python",
   "name": "python3"
  },
  "language_info": {
   "codemirror_mode": {
    "name": "ipython",
    "version": 3
   },
   "file_extension": ".py",
   "mimetype": "text/x-python",
   "name": "python",
   "nbconvert_exporter": "python",
   "pygments_lexer": "ipython3",
   "version": "3.7.6"
  }
 },
 "nbformat": 4,
 "nbformat_minor": 4
}
